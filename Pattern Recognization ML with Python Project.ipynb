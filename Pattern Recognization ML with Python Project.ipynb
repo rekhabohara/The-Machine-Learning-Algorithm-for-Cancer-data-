{
 "cells": [
  {
   "cell_type": "markdown",
   "id": "b5de8c73",
   "metadata": {},
   "source": [
    "#### The Divergent Roles of Decision Trees in Classification and Regression\n",
    "Decision trees serve different purposes in classification and regression tasks:\n",
    "\n",
    "Classification:\n",
    "Used to predict the category or class of a data point.\n",
    "Splits data based on features, creating decision rules in a tree structure.\n",
    "Leaf nodes represent class labels.\n",
    "Output: Discrete class labels.\n",
    "\n",
    "Regression:\n",
    "Used to predict continuous numeric values.\n",
    "Splits data to minimize variance in predicted values.\n",
    "Leaf nodes contain numeric predictions.\n",
    "Output: Continuous numeric predictions.\n",
    "\n",
    "Key Differences:\n",
    "Output Type: Classification trees produce discrete class labels, while regression trees provide continuous numeric predictions.\n",
    "\n",
    "Objective: Classification divides data into classes, regression predicts numeric values.\n",
    "\n",
    "Leaf Values: Classification tree leaves hold class labels; regression tree leaves contain numeric predictions.\n",
    "\n",
    "Evaluation: Classification uses metrics like Gini impurity, regression uses MSE.\n",
    "\n",
    "Example: Classification tree classifies emails as \"Spam\" or \"Not Spam,\" regression tree predicts house prices.\n",
    "\n",
    "In summary, decision trees adapt to either task but vary in structure and output to suit specific needs."
   ]
  },
  {
   "cell_type": "markdown",
   "id": "fcfd14c6",
   "metadata": {},
   "source": [
    "##### A decision tree predicts by:\n",
    "\n",
    "1.Starting at the root node.\n",
    "\n",
    "2.Comparing features at each node.\n",
    "\n",
    "3.Branching based on feature values.\n",
    "\n",
    "4.Traversing nodes until a leaf is reached.\n",
    "\n",
    "5.Leaf provides prediction: class or value.\n",
    "\n",
    "6.Decision trees are interpretable and capture complex decisions.\n",
    "\n",
    "A decision tree uses a sequence of feature comparisons and binary decisions to guide the traversal of the tree until it reaches a leaf node, which provides the prediction for the new data point. This prediction process is intuitive and interpretable, as each step corresponds to a decision based on a feature's value. Decision trees are versatile and widely used in machine learning due to their transparency and ability to capture complex decision-making processes."
   ]
  },
  {
   "cell_type": "markdown",
   "id": "ed114f55",
   "metadata": {},
   "source": [
    "#### Optimizing Margin: The Core Criterion of SVMs\n",
    "SVMs optimize the \"Margin,\" which is the distance between the decision boundary and the nearest data points from each class. The objective is to find the hyperplane that maximizes this margin while accurately classifying the training data. This margin maximization criterion ensures robust decision boundaries for effective classification."
   ]
  },
  {
   "cell_type": "markdown",
   "id": "bf1d8e2a",
   "metadata": {},
   "source": [
    "#### SVMs and the Kernel Trick: Taming Non-Linear Data\n",
    "Support Vector Machines (SVMs) excel in classifying data but are initially designed for linearly separable data. In real-world scenarios where data isn't linearly separable, SVMs utilize the \"kernel trick\" to transform data into a higher-dimensional space, enhancing separability. \n",
    "\n",
    "##### Kernel Trick: A mathematical transformation maps data to a higher-dimensional space, increasing the likelihood of linear separation without explicitly storing the transformed data.\n",
    "\n",
    "##### Common Kernels: SVMs offer various kernels like linear, radial basis function (RBF), polynomial, and sigmoid. You choose based on the problem's nature.\n",
    "\n",
    "##### Kernel Parameters: Parameters like 'C' and 'gamma' in some kernels control model complexity and overfitting, impacting SVM performance.\n",
    "\n",
    "SVMs adapt to non-linear data using the kernel trick, enabling complex decision boundaries that capture intricate patterns. The choice of kernel and parameter tuning are pivotal for modeling non-linear relationships effectively."
   ]
  },
  {
   "cell_type": "markdown",
   "id": "6e61a7b8",
   "metadata": {},
   "source": [
    "#### Extending SVMs for Multi-Class Classification: Strategies and Techniques\n",
    "SVMs can handle multi-class classification by:\n",
    "##### One-vs-Rest (OvR):\n",
    "Creating multiple binary classifiers, one for each class, and selecting the class with the highest confidence during prediction.\n",
    "##### One-vs-One (OvO): \n",
    "Building a binary classifier for every pair of classes and using voting to decide the final class.\n",
    "##### Direct Multi-Class SVM:\n",
    "Optimizing the multi-class problem directly without breaking it into binary subproblems.\n",
    "##### SVM-Softmax:\n",
    "Combining SVM with a Softmax layer to convert decision scores into class probabilities.\n",
    "##### Tree-Based SVM:\n",
    "Using tree-based methods to naturally handle multi-class classification by recursively splitting data.\n",
    "\n",
    "The choice depends on factors like the number of classes and computational resources. OvR and OvO are popular for simplicity, but experimentation helps select the best approach."
   ]
  },
  {
   "cell_type": "markdown",
   "id": "5b47d776",
   "metadata": {},
   "source": [
    "#### Breast Cancer (BC): A Global Health Challenge\n",
    "\n",
    "Breast cancer (BC) ranks among the most prevalent forms of cancer in women worldwide, contributing significantly to both the number of new cancer cases and cancer-related fatalities on a global scale. This disease poses a substantial public health concern in contemporary society.\n",
    "\n",
    "Insights into the BC Dataset\n",
    "\n",
    "Our dataset featured 32 attributes.\n",
    "Attributes in Our Dataset\n",
    "\n",
    "Our dataset encompasses a range of crucial attributes, each providing valuable insights into breast cancer characteristics:\n",
    "\n",
    "Radius: The mean distance from the center to points on the tumor's perimeter.<br>\n",
    "Texture: The standard deviation of gray-scale values within the image.<br>\n",
    "Perimeter: The size of the core tumor.<br>\n",
    "Area: The overall area of the tumor.<br>\n",
    "Smoothness: Local variations in radius lengths, reflecting irregularities in cell size.<br>\n",
    "Compactness: Calculated as (perimeter² / area) - 1.0, capturing the tumor's shape and density.<br>\n",
    "Concavity: Reflects the severity of concave regions in the tumor contour.<br>\n",
    "Concave Points: Indicates the number of concave portions within the contour.<br>\n",
    "Symmetry: Measures the symmetry of cell nuclei.<br>\n",
    "Fractal Dimension: Derived from a \"coastline approximation,\" characterizing complexity.\n",
    "\n",
    "\n",
    "Understanding Our Target Categories\n",
    "Our target file encompasses two distinct categories, denoted by the following labels:<br>\n",
    "Malignant: Referring to cancerous tumors.<br>\n",
    "Benign: Signifying non-cancerous tumors.<br>\n",
    "\n",
    "These categories are pivotal in our mission to develop models for breast cancer diagnosis and prognosis, contributing to the broader efforts aimed at addressing this global health challenge.\n"
   ]
  },
  {
   "cell_type": "code",
   "execution_count": null,
   "id": "74101c27",
   "metadata": {},
   "outputs": [],
   "source": [
    "import numpy as np\n",
    "from matplotlib import pyplot as plt\n",
    "import seaborn as sns\n",
    "from sklearn.datasets import load_breast_cancer\n",
    "\n",
    "cancer_data=load_breast_cancer()\n",
    "#cancer_data"
   ]
  },
  {
   "cell_type": "code",
   "execution_count": 4,
   "id": "0c79a634",
   "metadata": {},
   "outputs": [],
   "source": [
    "import pandas as pd\n",
    "cancer_df=pd.DataFrame(data=cancer_data.data,\n",
    "                    columns=cancer_data.feature_names)"
   ]
  },
  {
   "cell_type": "code",
   "execution_count": 61,
   "id": "ad3d5ad8",
   "metadata": {},
   "outputs": [
    {
     "data": {
      "text/plain": [
       "array(['mean radius', 'mean texture', 'mean perimeter', 'mean area',\n",
       "       'mean smoothness', 'mean compactness', 'mean concavity',\n",
       "       'mean concave points', 'mean symmetry', 'mean fractal dimension',\n",
       "       'radius error', 'texture error', 'perimeter error', 'area error',\n",
       "       'smoothness error', 'compactness error', 'concavity error',\n",
       "       'concave points error', 'symmetry error',\n",
       "       'fractal dimension error', 'worst radius', 'worst texture',\n",
       "       'worst perimeter', 'worst area', 'worst smoothness',\n",
       "       'worst compactness', 'worst concavity', 'worst concave points',\n",
       "       'worst symmetry', 'worst fractal dimension'], dtype='<U23')"
      ]
     },
     "execution_count": 61,
     "metadata": {},
     "output_type": "execute_result"
    }
   ],
   "source": [
    "cancer_data.feature_names #Coloumn names "
   ]
  },
  {
   "cell_type": "code",
   "execution_count": 5,
   "id": "df232cb4",
   "metadata": {},
   "outputs": [
    {
     "data": {
      "text/html": [
       "<div>\n",
       "<style scoped>\n",
       "    .dataframe tbody tr th:only-of-type {\n",
       "        vertical-align: middle;\n",
       "    }\n",
       "\n",
       "    .dataframe tbody tr th {\n",
       "        vertical-align: top;\n",
       "    }\n",
       "\n",
       "    .dataframe thead th {\n",
       "        text-align: right;\n",
       "    }\n",
       "</style>\n",
       "<table border=\"1\" class=\"dataframe\">\n",
       "  <thead>\n",
       "    <tr style=\"text-align: right;\">\n",
       "      <th></th>\n",
       "      <th>mean radius</th>\n",
       "      <th>mean texture</th>\n",
       "      <th>mean perimeter</th>\n",
       "      <th>mean area</th>\n",
       "      <th>mean smoothness</th>\n",
       "      <th>mean compactness</th>\n",
       "      <th>mean concavity</th>\n",
       "      <th>mean concave points</th>\n",
       "      <th>mean symmetry</th>\n",
       "      <th>mean fractal dimension</th>\n",
       "      <th>...</th>\n",
       "      <th>worst radius</th>\n",
       "      <th>worst texture</th>\n",
       "      <th>worst perimeter</th>\n",
       "      <th>worst area</th>\n",
       "      <th>worst smoothness</th>\n",
       "      <th>worst compactness</th>\n",
       "      <th>worst concavity</th>\n",
       "      <th>worst concave points</th>\n",
       "      <th>worst symmetry</th>\n",
       "      <th>worst fractal dimension</th>\n",
       "    </tr>\n",
       "  </thead>\n",
       "  <tbody>\n",
       "    <tr>\n",
       "      <th>0</th>\n",
       "      <td>17.99</td>\n",
       "      <td>10.38</td>\n",
       "      <td>122.80</td>\n",
       "      <td>1001.0</td>\n",
       "      <td>0.11840</td>\n",
       "      <td>0.27760</td>\n",
       "      <td>0.30010</td>\n",
       "      <td>0.14710</td>\n",
       "      <td>0.2419</td>\n",
       "      <td>0.07871</td>\n",
       "      <td>...</td>\n",
       "      <td>25.380</td>\n",
       "      <td>17.33</td>\n",
       "      <td>184.60</td>\n",
       "      <td>2019.0</td>\n",
       "      <td>0.16220</td>\n",
       "      <td>0.66560</td>\n",
       "      <td>0.7119</td>\n",
       "      <td>0.2654</td>\n",
       "      <td>0.4601</td>\n",
       "      <td>0.11890</td>\n",
       "    </tr>\n",
       "    <tr>\n",
       "      <th>1</th>\n",
       "      <td>20.57</td>\n",
       "      <td>17.77</td>\n",
       "      <td>132.90</td>\n",
       "      <td>1326.0</td>\n",
       "      <td>0.08474</td>\n",
       "      <td>0.07864</td>\n",
       "      <td>0.08690</td>\n",
       "      <td>0.07017</td>\n",
       "      <td>0.1812</td>\n",
       "      <td>0.05667</td>\n",
       "      <td>...</td>\n",
       "      <td>24.990</td>\n",
       "      <td>23.41</td>\n",
       "      <td>158.80</td>\n",
       "      <td>1956.0</td>\n",
       "      <td>0.12380</td>\n",
       "      <td>0.18660</td>\n",
       "      <td>0.2416</td>\n",
       "      <td>0.1860</td>\n",
       "      <td>0.2750</td>\n",
       "      <td>0.08902</td>\n",
       "    </tr>\n",
       "    <tr>\n",
       "      <th>2</th>\n",
       "      <td>19.69</td>\n",
       "      <td>21.25</td>\n",
       "      <td>130.00</td>\n",
       "      <td>1203.0</td>\n",
       "      <td>0.10960</td>\n",
       "      <td>0.15990</td>\n",
       "      <td>0.19740</td>\n",
       "      <td>0.12790</td>\n",
       "      <td>0.2069</td>\n",
       "      <td>0.05999</td>\n",
       "      <td>...</td>\n",
       "      <td>23.570</td>\n",
       "      <td>25.53</td>\n",
       "      <td>152.50</td>\n",
       "      <td>1709.0</td>\n",
       "      <td>0.14440</td>\n",
       "      <td>0.42450</td>\n",
       "      <td>0.4504</td>\n",
       "      <td>0.2430</td>\n",
       "      <td>0.3613</td>\n",
       "      <td>0.08758</td>\n",
       "    </tr>\n",
       "    <tr>\n",
       "      <th>3</th>\n",
       "      <td>11.42</td>\n",
       "      <td>20.38</td>\n",
       "      <td>77.58</td>\n",
       "      <td>386.1</td>\n",
       "      <td>0.14250</td>\n",
       "      <td>0.28390</td>\n",
       "      <td>0.24140</td>\n",
       "      <td>0.10520</td>\n",
       "      <td>0.2597</td>\n",
       "      <td>0.09744</td>\n",
       "      <td>...</td>\n",
       "      <td>14.910</td>\n",
       "      <td>26.50</td>\n",
       "      <td>98.87</td>\n",
       "      <td>567.7</td>\n",
       "      <td>0.20980</td>\n",
       "      <td>0.86630</td>\n",
       "      <td>0.6869</td>\n",
       "      <td>0.2575</td>\n",
       "      <td>0.6638</td>\n",
       "      <td>0.17300</td>\n",
       "    </tr>\n",
       "    <tr>\n",
       "      <th>4</th>\n",
       "      <td>20.29</td>\n",
       "      <td>14.34</td>\n",
       "      <td>135.10</td>\n",
       "      <td>1297.0</td>\n",
       "      <td>0.10030</td>\n",
       "      <td>0.13280</td>\n",
       "      <td>0.19800</td>\n",
       "      <td>0.10430</td>\n",
       "      <td>0.1809</td>\n",
       "      <td>0.05883</td>\n",
       "      <td>...</td>\n",
       "      <td>22.540</td>\n",
       "      <td>16.67</td>\n",
       "      <td>152.20</td>\n",
       "      <td>1575.0</td>\n",
       "      <td>0.13740</td>\n",
       "      <td>0.20500</td>\n",
       "      <td>0.4000</td>\n",
       "      <td>0.1625</td>\n",
       "      <td>0.2364</td>\n",
       "      <td>0.07678</td>\n",
       "    </tr>\n",
       "    <tr>\n",
       "      <th>...</th>\n",
       "      <td>...</td>\n",
       "      <td>...</td>\n",
       "      <td>...</td>\n",
       "      <td>...</td>\n",
       "      <td>...</td>\n",
       "      <td>...</td>\n",
       "      <td>...</td>\n",
       "      <td>...</td>\n",
       "      <td>...</td>\n",
       "      <td>...</td>\n",
       "      <td>...</td>\n",
       "      <td>...</td>\n",
       "      <td>...</td>\n",
       "      <td>...</td>\n",
       "      <td>...</td>\n",
       "      <td>...</td>\n",
       "      <td>...</td>\n",
       "      <td>...</td>\n",
       "      <td>...</td>\n",
       "      <td>...</td>\n",
       "      <td>...</td>\n",
       "    </tr>\n",
       "    <tr>\n",
       "      <th>564</th>\n",
       "      <td>21.56</td>\n",
       "      <td>22.39</td>\n",
       "      <td>142.00</td>\n",
       "      <td>1479.0</td>\n",
       "      <td>0.11100</td>\n",
       "      <td>0.11590</td>\n",
       "      <td>0.24390</td>\n",
       "      <td>0.13890</td>\n",
       "      <td>0.1726</td>\n",
       "      <td>0.05623</td>\n",
       "      <td>...</td>\n",
       "      <td>25.450</td>\n",
       "      <td>26.40</td>\n",
       "      <td>166.10</td>\n",
       "      <td>2027.0</td>\n",
       "      <td>0.14100</td>\n",
       "      <td>0.21130</td>\n",
       "      <td>0.4107</td>\n",
       "      <td>0.2216</td>\n",
       "      <td>0.2060</td>\n",
       "      <td>0.07115</td>\n",
       "    </tr>\n",
       "    <tr>\n",
       "      <th>565</th>\n",
       "      <td>20.13</td>\n",
       "      <td>28.25</td>\n",
       "      <td>131.20</td>\n",
       "      <td>1261.0</td>\n",
       "      <td>0.09780</td>\n",
       "      <td>0.10340</td>\n",
       "      <td>0.14400</td>\n",
       "      <td>0.09791</td>\n",
       "      <td>0.1752</td>\n",
       "      <td>0.05533</td>\n",
       "      <td>...</td>\n",
       "      <td>23.690</td>\n",
       "      <td>38.25</td>\n",
       "      <td>155.00</td>\n",
       "      <td>1731.0</td>\n",
       "      <td>0.11660</td>\n",
       "      <td>0.19220</td>\n",
       "      <td>0.3215</td>\n",
       "      <td>0.1628</td>\n",
       "      <td>0.2572</td>\n",
       "      <td>0.06637</td>\n",
       "    </tr>\n",
       "    <tr>\n",
       "      <th>566</th>\n",
       "      <td>16.60</td>\n",
       "      <td>28.08</td>\n",
       "      <td>108.30</td>\n",
       "      <td>858.1</td>\n",
       "      <td>0.08455</td>\n",
       "      <td>0.10230</td>\n",
       "      <td>0.09251</td>\n",
       "      <td>0.05302</td>\n",
       "      <td>0.1590</td>\n",
       "      <td>0.05648</td>\n",
       "      <td>...</td>\n",
       "      <td>18.980</td>\n",
       "      <td>34.12</td>\n",
       "      <td>126.70</td>\n",
       "      <td>1124.0</td>\n",
       "      <td>0.11390</td>\n",
       "      <td>0.30940</td>\n",
       "      <td>0.3403</td>\n",
       "      <td>0.1418</td>\n",
       "      <td>0.2218</td>\n",
       "      <td>0.07820</td>\n",
       "    </tr>\n",
       "    <tr>\n",
       "      <th>567</th>\n",
       "      <td>20.60</td>\n",
       "      <td>29.33</td>\n",
       "      <td>140.10</td>\n",
       "      <td>1265.0</td>\n",
       "      <td>0.11780</td>\n",
       "      <td>0.27700</td>\n",
       "      <td>0.35140</td>\n",
       "      <td>0.15200</td>\n",
       "      <td>0.2397</td>\n",
       "      <td>0.07016</td>\n",
       "      <td>...</td>\n",
       "      <td>25.740</td>\n",
       "      <td>39.42</td>\n",
       "      <td>184.60</td>\n",
       "      <td>1821.0</td>\n",
       "      <td>0.16500</td>\n",
       "      <td>0.86810</td>\n",
       "      <td>0.9387</td>\n",
       "      <td>0.2650</td>\n",
       "      <td>0.4087</td>\n",
       "      <td>0.12400</td>\n",
       "    </tr>\n",
       "    <tr>\n",
       "      <th>568</th>\n",
       "      <td>7.76</td>\n",
       "      <td>24.54</td>\n",
       "      <td>47.92</td>\n",
       "      <td>181.0</td>\n",
       "      <td>0.05263</td>\n",
       "      <td>0.04362</td>\n",
       "      <td>0.00000</td>\n",
       "      <td>0.00000</td>\n",
       "      <td>0.1587</td>\n",
       "      <td>0.05884</td>\n",
       "      <td>...</td>\n",
       "      <td>9.456</td>\n",
       "      <td>30.37</td>\n",
       "      <td>59.16</td>\n",
       "      <td>268.6</td>\n",
       "      <td>0.08996</td>\n",
       "      <td>0.06444</td>\n",
       "      <td>0.0000</td>\n",
       "      <td>0.0000</td>\n",
       "      <td>0.2871</td>\n",
       "      <td>0.07039</td>\n",
       "    </tr>\n",
       "  </tbody>\n",
       "</table>\n",
       "<p>569 rows × 30 columns</p>\n",
       "</div>"
      ],
      "text/plain": [
       "     mean radius  mean texture  mean perimeter  mean area  mean smoothness  \\\n",
       "0          17.99         10.38          122.80     1001.0          0.11840   \n",
       "1          20.57         17.77          132.90     1326.0          0.08474   \n",
       "2          19.69         21.25          130.00     1203.0          0.10960   \n",
       "3          11.42         20.38           77.58      386.1          0.14250   \n",
       "4          20.29         14.34          135.10     1297.0          0.10030   \n",
       "..           ...           ...             ...        ...              ...   \n",
       "564        21.56         22.39          142.00     1479.0          0.11100   \n",
       "565        20.13         28.25          131.20     1261.0          0.09780   \n",
       "566        16.60         28.08          108.30      858.1          0.08455   \n",
       "567        20.60         29.33          140.10     1265.0          0.11780   \n",
       "568         7.76         24.54           47.92      181.0          0.05263   \n",
       "\n",
       "     mean compactness  mean concavity  mean concave points  mean symmetry  \\\n",
       "0             0.27760         0.30010              0.14710         0.2419   \n",
       "1             0.07864         0.08690              0.07017         0.1812   \n",
       "2             0.15990         0.19740              0.12790         0.2069   \n",
       "3             0.28390         0.24140              0.10520         0.2597   \n",
       "4             0.13280         0.19800              0.10430         0.1809   \n",
       "..                ...             ...                  ...            ...   \n",
       "564           0.11590         0.24390              0.13890         0.1726   \n",
       "565           0.10340         0.14400              0.09791         0.1752   \n",
       "566           0.10230         0.09251              0.05302         0.1590   \n",
       "567           0.27700         0.35140              0.15200         0.2397   \n",
       "568           0.04362         0.00000              0.00000         0.1587   \n",
       "\n",
       "     mean fractal dimension  ...  worst radius  worst texture  \\\n",
       "0                   0.07871  ...        25.380          17.33   \n",
       "1                   0.05667  ...        24.990          23.41   \n",
       "2                   0.05999  ...        23.570          25.53   \n",
       "3                   0.09744  ...        14.910          26.50   \n",
       "4                   0.05883  ...        22.540          16.67   \n",
       "..                      ...  ...           ...            ...   \n",
       "564                 0.05623  ...        25.450          26.40   \n",
       "565                 0.05533  ...        23.690          38.25   \n",
       "566                 0.05648  ...        18.980          34.12   \n",
       "567                 0.07016  ...        25.740          39.42   \n",
       "568                 0.05884  ...         9.456          30.37   \n",
       "\n",
       "     worst perimeter  worst area  worst smoothness  worst compactness  \\\n",
       "0             184.60      2019.0           0.16220            0.66560   \n",
       "1             158.80      1956.0           0.12380            0.18660   \n",
       "2             152.50      1709.0           0.14440            0.42450   \n",
       "3              98.87       567.7           0.20980            0.86630   \n",
       "4             152.20      1575.0           0.13740            0.20500   \n",
       "..               ...         ...               ...                ...   \n",
       "564           166.10      2027.0           0.14100            0.21130   \n",
       "565           155.00      1731.0           0.11660            0.19220   \n",
       "566           126.70      1124.0           0.11390            0.30940   \n",
       "567           184.60      1821.0           0.16500            0.86810   \n",
       "568            59.16       268.6           0.08996            0.06444   \n",
       "\n",
       "     worst concavity  worst concave points  worst symmetry  \\\n",
       "0             0.7119                0.2654          0.4601   \n",
       "1             0.2416                0.1860          0.2750   \n",
       "2             0.4504                0.2430          0.3613   \n",
       "3             0.6869                0.2575          0.6638   \n",
       "4             0.4000                0.1625          0.2364   \n",
       "..               ...                   ...             ...   \n",
       "564           0.4107                0.2216          0.2060   \n",
       "565           0.3215                0.1628          0.2572   \n",
       "566           0.3403                0.1418          0.2218   \n",
       "567           0.9387                0.2650          0.4087   \n",
       "568           0.0000                0.0000          0.2871   \n",
       "\n",
       "     worst fractal dimension  \n",
       "0                    0.11890  \n",
       "1                    0.08902  \n",
       "2                    0.08758  \n",
       "3                    0.17300  \n",
       "4                    0.07678  \n",
       "..                       ...  \n",
       "564                  0.07115  \n",
       "565                  0.06637  \n",
       "566                  0.07820  \n",
       "567                  0.12400  \n",
       "568                  0.07039  \n",
       "\n",
       "[569 rows x 30 columns]"
      ]
     },
     "execution_count": 5,
     "metadata": {},
     "output_type": "execute_result"
    }
   ],
   "source": [
    "cancer_df #breast_cancer "
   ]
  },
  {
   "cell_type": "code",
   "execution_count": 6,
   "id": "81b88067",
   "metadata": {},
   "outputs": [
    {
     "data": {
      "text/plain": [
       "array(['malignant', 'benign'], dtype='<U9')"
      ]
     },
     "execution_count": 6,
     "metadata": {},
     "output_type": "execute_result"
    }
   ],
   "source": [
    "cancer_data_target = pd.DataFrame(cancer_data.target)\n",
    "cancer_data.target_names"
   ]
  },
  {
   "cell_type": "markdown",
   "id": "ae22c6cb",
   "metadata": {},
   "source": [
    "In the cancer dataset, the target values serve a crucial role in distinguishing between malignancy and benign (non-malignancy), value of '0' represents cases of malignant tumors, while a value of '1' is indicative of non-malignant tumors."
   ]
  },
  {
   "cell_type": "code",
   "execution_count": 7,
   "id": "f048f056",
   "metadata": {},
   "outputs": [
    {
     "data": {
      "text/plain": [
       "(569, 30)"
      ]
     },
     "execution_count": 7,
     "metadata": {},
     "output_type": "execute_result"
    }
   ],
   "source": [
    "cancer_df.shape"
   ]
  },
  {
   "cell_type": "code",
   "execution_count": 8,
   "id": "83299c0d",
   "metadata": {},
   "outputs": [
    {
     "data": {
      "text/plain": [
       "(569, 1)"
      ]
     },
     "execution_count": 8,
     "metadata": {},
     "output_type": "execute_result"
    }
   ],
   "source": [
    "cancer_data_target.shape"
   ]
  },
  {
   "cell_type": "markdown",
   "id": "072e768e",
   "metadata": {},
   "source": [
    "##### In the context of cancer data analysis there are 569 samples or instances and 31 features or attributes associated with each sample including one features as our target variable "
   ]
  },
  {
   "cell_type": "code",
   "execution_count": 9,
   "id": "0cca9260",
   "metadata": {},
   "outputs": [
    {
     "data": {
      "text/html": [
       "<div>\n",
       "<style scoped>\n",
       "    .dataframe tbody tr th:only-of-type {\n",
       "        vertical-align: middle;\n",
       "    }\n",
       "\n",
       "    .dataframe tbody tr th {\n",
       "        vertical-align: top;\n",
       "    }\n",
       "\n",
       "    .dataframe thead th {\n",
       "        text-align: right;\n",
       "    }\n",
       "</style>\n",
       "<table border=\"1\" class=\"dataframe\">\n",
       "  <thead>\n",
       "    <tr style=\"text-align: right;\">\n",
       "      <th></th>\n",
       "      <th>mean radius</th>\n",
       "      <th>mean texture</th>\n",
       "      <th>mean perimeter</th>\n",
       "      <th>mean area</th>\n",
       "      <th>mean smoothness</th>\n",
       "      <th>mean compactness</th>\n",
       "      <th>mean concavity</th>\n",
       "      <th>mean concave points</th>\n",
       "      <th>mean symmetry</th>\n",
       "      <th>mean fractal dimension</th>\n",
       "      <th>...</th>\n",
       "      <th>worst radius</th>\n",
       "      <th>worst texture</th>\n",
       "      <th>worst perimeter</th>\n",
       "      <th>worst area</th>\n",
       "      <th>worst smoothness</th>\n",
       "      <th>worst compactness</th>\n",
       "      <th>worst concavity</th>\n",
       "      <th>worst concave points</th>\n",
       "      <th>worst symmetry</th>\n",
       "      <th>worst fractal dimension</th>\n",
       "    </tr>\n",
       "  </thead>\n",
       "  <tbody>\n",
       "    <tr>\n",
       "      <th>count</th>\n",
       "      <td>569.000000</td>\n",
       "      <td>569.000000</td>\n",
       "      <td>569.000000</td>\n",
       "      <td>569.000000</td>\n",
       "      <td>569.000000</td>\n",
       "      <td>569.000000</td>\n",
       "      <td>569.000000</td>\n",
       "      <td>569.000000</td>\n",
       "      <td>569.000000</td>\n",
       "      <td>569.000000</td>\n",
       "      <td>...</td>\n",
       "      <td>569.000000</td>\n",
       "      <td>569.000000</td>\n",
       "      <td>569.000000</td>\n",
       "      <td>569.000000</td>\n",
       "      <td>569.000000</td>\n",
       "      <td>569.000000</td>\n",
       "      <td>569.000000</td>\n",
       "      <td>569.000000</td>\n",
       "      <td>569.000000</td>\n",
       "      <td>569.000000</td>\n",
       "    </tr>\n",
       "    <tr>\n",
       "      <th>mean</th>\n",
       "      <td>14.127292</td>\n",
       "      <td>19.289649</td>\n",
       "      <td>91.969033</td>\n",
       "      <td>654.889104</td>\n",
       "      <td>0.096360</td>\n",
       "      <td>0.104341</td>\n",
       "      <td>0.088799</td>\n",
       "      <td>0.048919</td>\n",
       "      <td>0.181162</td>\n",
       "      <td>0.062798</td>\n",
       "      <td>...</td>\n",
       "      <td>16.269190</td>\n",
       "      <td>25.677223</td>\n",
       "      <td>107.261213</td>\n",
       "      <td>880.583128</td>\n",
       "      <td>0.132369</td>\n",
       "      <td>0.254265</td>\n",
       "      <td>0.272188</td>\n",
       "      <td>0.114606</td>\n",
       "      <td>0.290076</td>\n",
       "      <td>0.083946</td>\n",
       "    </tr>\n",
       "    <tr>\n",
       "      <th>std</th>\n",
       "      <td>3.524049</td>\n",
       "      <td>4.301036</td>\n",
       "      <td>24.298981</td>\n",
       "      <td>351.914129</td>\n",
       "      <td>0.014064</td>\n",
       "      <td>0.052813</td>\n",
       "      <td>0.079720</td>\n",
       "      <td>0.038803</td>\n",
       "      <td>0.027414</td>\n",
       "      <td>0.007060</td>\n",
       "      <td>...</td>\n",
       "      <td>4.833242</td>\n",
       "      <td>6.146258</td>\n",
       "      <td>33.602542</td>\n",
       "      <td>569.356993</td>\n",
       "      <td>0.022832</td>\n",
       "      <td>0.157336</td>\n",
       "      <td>0.208624</td>\n",
       "      <td>0.065732</td>\n",
       "      <td>0.061867</td>\n",
       "      <td>0.018061</td>\n",
       "    </tr>\n",
       "    <tr>\n",
       "      <th>min</th>\n",
       "      <td>6.981000</td>\n",
       "      <td>9.710000</td>\n",
       "      <td>43.790000</td>\n",
       "      <td>143.500000</td>\n",
       "      <td>0.052630</td>\n",
       "      <td>0.019380</td>\n",
       "      <td>0.000000</td>\n",
       "      <td>0.000000</td>\n",
       "      <td>0.106000</td>\n",
       "      <td>0.049960</td>\n",
       "      <td>...</td>\n",
       "      <td>7.930000</td>\n",
       "      <td>12.020000</td>\n",
       "      <td>50.410000</td>\n",
       "      <td>185.200000</td>\n",
       "      <td>0.071170</td>\n",
       "      <td>0.027290</td>\n",
       "      <td>0.000000</td>\n",
       "      <td>0.000000</td>\n",
       "      <td>0.156500</td>\n",
       "      <td>0.055040</td>\n",
       "    </tr>\n",
       "    <tr>\n",
       "      <th>25%</th>\n",
       "      <td>11.700000</td>\n",
       "      <td>16.170000</td>\n",
       "      <td>75.170000</td>\n",
       "      <td>420.300000</td>\n",
       "      <td>0.086370</td>\n",
       "      <td>0.064920</td>\n",
       "      <td>0.029560</td>\n",
       "      <td>0.020310</td>\n",
       "      <td>0.161900</td>\n",
       "      <td>0.057700</td>\n",
       "      <td>...</td>\n",
       "      <td>13.010000</td>\n",
       "      <td>21.080000</td>\n",
       "      <td>84.110000</td>\n",
       "      <td>515.300000</td>\n",
       "      <td>0.116600</td>\n",
       "      <td>0.147200</td>\n",
       "      <td>0.114500</td>\n",
       "      <td>0.064930</td>\n",
       "      <td>0.250400</td>\n",
       "      <td>0.071460</td>\n",
       "    </tr>\n",
       "    <tr>\n",
       "      <th>50%</th>\n",
       "      <td>13.370000</td>\n",
       "      <td>18.840000</td>\n",
       "      <td>86.240000</td>\n",
       "      <td>551.100000</td>\n",
       "      <td>0.095870</td>\n",
       "      <td>0.092630</td>\n",
       "      <td>0.061540</td>\n",
       "      <td>0.033500</td>\n",
       "      <td>0.179200</td>\n",
       "      <td>0.061540</td>\n",
       "      <td>...</td>\n",
       "      <td>14.970000</td>\n",
       "      <td>25.410000</td>\n",
       "      <td>97.660000</td>\n",
       "      <td>686.500000</td>\n",
       "      <td>0.131300</td>\n",
       "      <td>0.211900</td>\n",
       "      <td>0.226700</td>\n",
       "      <td>0.099930</td>\n",
       "      <td>0.282200</td>\n",
       "      <td>0.080040</td>\n",
       "    </tr>\n",
       "    <tr>\n",
       "      <th>75%</th>\n",
       "      <td>15.780000</td>\n",
       "      <td>21.800000</td>\n",
       "      <td>104.100000</td>\n",
       "      <td>782.700000</td>\n",
       "      <td>0.105300</td>\n",
       "      <td>0.130400</td>\n",
       "      <td>0.130700</td>\n",
       "      <td>0.074000</td>\n",
       "      <td>0.195700</td>\n",
       "      <td>0.066120</td>\n",
       "      <td>...</td>\n",
       "      <td>18.790000</td>\n",
       "      <td>29.720000</td>\n",
       "      <td>125.400000</td>\n",
       "      <td>1084.000000</td>\n",
       "      <td>0.146000</td>\n",
       "      <td>0.339100</td>\n",
       "      <td>0.382900</td>\n",
       "      <td>0.161400</td>\n",
       "      <td>0.317900</td>\n",
       "      <td>0.092080</td>\n",
       "    </tr>\n",
       "    <tr>\n",
       "      <th>max</th>\n",
       "      <td>28.110000</td>\n",
       "      <td>39.280000</td>\n",
       "      <td>188.500000</td>\n",
       "      <td>2501.000000</td>\n",
       "      <td>0.163400</td>\n",
       "      <td>0.345400</td>\n",
       "      <td>0.426800</td>\n",
       "      <td>0.201200</td>\n",
       "      <td>0.304000</td>\n",
       "      <td>0.097440</td>\n",
       "      <td>...</td>\n",
       "      <td>36.040000</td>\n",
       "      <td>49.540000</td>\n",
       "      <td>251.200000</td>\n",
       "      <td>4254.000000</td>\n",
       "      <td>0.222600</td>\n",
       "      <td>1.058000</td>\n",
       "      <td>1.252000</td>\n",
       "      <td>0.291000</td>\n",
       "      <td>0.663800</td>\n",
       "      <td>0.207500</td>\n",
       "    </tr>\n",
       "  </tbody>\n",
       "</table>\n",
       "<p>8 rows × 30 columns</p>\n",
       "</div>"
      ],
      "text/plain": [
       "       mean radius  mean texture  mean perimeter    mean area  \\\n",
       "count   569.000000    569.000000      569.000000   569.000000   \n",
       "mean     14.127292     19.289649       91.969033   654.889104   \n",
       "std       3.524049      4.301036       24.298981   351.914129   \n",
       "min       6.981000      9.710000       43.790000   143.500000   \n",
       "25%      11.700000     16.170000       75.170000   420.300000   \n",
       "50%      13.370000     18.840000       86.240000   551.100000   \n",
       "75%      15.780000     21.800000      104.100000   782.700000   \n",
       "max      28.110000     39.280000      188.500000  2501.000000   \n",
       "\n",
       "       mean smoothness  mean compactness  mean concavity  mean concave points  \\\n",
       "count       569.000000        569.000000      569.000000           569.000000   \n",
       "mean          0.096360          0.104341        0.088799             0.048919   \n",
       "std           0.014064          0.052813        0.079720             0.038803   \n",
       "min           0.052630          0.019380        0.000000             0.000000   \n",
       "25%           0.086370          0.064920        0.029560             0.020310   \n",
       "50%           0.095870          0.092630        0.061540             0.033500   \n",
       "75%           0.105300          0.130400        0.130700             0.074000   \n",
       "max           0.163400          0.345400        0.426800             0.201200   \n",
       "\n",
       "       mean symmetry  mean fractal dimension  ...  worst radius  \\\n",
       "count     569.000000              569.000000  ...    569.000000   \n",
       "mean        0.181162                0.062798  ...     16.269190   \n",
       "std         0.027414                0.007060  ...      4.833242   \n",
       "min         0.106000                0.049960  ...      7.930000   \n",
       "25%         0.161900                0.057700  ...     13.010000   \n",
       "50%         0.179200                0.061540  ...     14.970000   \n",
       "75%         0.195700                0.066120  ...     18.790000   \n",
       "max         0.304000                0.097440  ...     36.040000   \n",
       "\n",
       "       worst texture  worst perimeter   worst area  worst smoothness  \\\n",
       "count     569.000000       569.000000   569.000000        569.000000   \n",
       "mean       25.677223       107.261213   880.583128          0.132369   \n",
       "std         6.146258        33.602542   569.356993          0.022832   \n",
       "min        12.020000        50.410000   185.200000          0.071170   \n",
       "25%        21.080000        84.110000   515.300000          0.116600   \n",
       "50%        25.410000        97.660000   686.500000          0.131300   \n",
       "75%        29.720000       125.400000  1084.000000          0.146000   \n",
       "max        49.540000       251.200000  4254.000000          0.222600   \n",
       "\n",
       "       worst compactness  worst concavity  worst concave points  \\\n",
       "count         569.000000       569.000000            569.000000   \n",
       "mean            0.254265         0.272188              0.114606   \n",
       "std             0.157336         0.208624              0.065732   \n",
       "min             0.027290         0.000000              0.000000   \n",
       "25%             0.147200         0.114500              0.064930   \n",
       "50%             0.211900         0.226700              0.099930   \n",
       "75%             0.339100         0.382900              0.161400   \n",
       "max             1.058000         1.252000              0.291000   \n",
       "\n",
       "       worst symmetry  worst fractal dimension  \n",
       "count      569.000000               569.000000  \n",
       "mean         0.290076                 0.083946  \n",
       "std          0.061867                 0.018061  \n",
       "min          0.156500                 0.055040  \n",
       "25%          0.250400                 0.071460  \n",
       "50%          0.282200                 0.080040  \n",
       "75%          0.317900                 0.092080  \n",
       "max          0.663800                 0.207500  \n",
       "\n",
       "[8 rows x 30 columns]"
      ]
     },
     "execution_count": 9,
     "metadata": {},
     "output_type": "execute_result"
    }
   ],
   "source": [
    "cancer_df.describe()"
   ]
  },
  {
   "cell_type": "code",
   "execution_count": 10,
   "id": "65598467",
   "metadata": {},
   "outputs": [
    {
     "name": "stdout",
     "output_type": "stream",
     "text": [
      "mean radius                0\n",
      "mean texture               0\n",
      "mean perimeter             0\n",
      "mean area                  0\n",
      "mean smoothness            0\n",
      "mean compactness           0\n",
      "mean concavity             0\n",
      "mean concave points        0\n",
      "mean symmetry              0\n",
      "mean fractal dimension     0\n",
      "radius error               0\n",
      "texture error              0\n",
      "perimeter error            0\n",
      "area error                 0\n",
      "smoothness error           0\n",
      "compactness error          0\n",
      "concavity error            0\n",
      "concave points error       0\n",
      "symmetry error             0\n",
      "fractal dimension error    0\n",
      "worst radius               0\n",
      "worst texture              0\n",
      "worst perimeter            0\n",
      "worst area                 0\n",
      "worst smoothness           0\n",
      "worst compactness          0\n",
      "worst concavity            0\n",
      "worst concave points       0\n",
      "worst symmetry             0\n",
      "worst fractal dimension    0\n",
      "dtype: int64\n"
     ]
    }
   ],
   "source": [
    "missing = cancer_df.isnull().sum()\n",
    "print(missing)"
   ]
  },
  {
   "cell_type": "markdown",
   "id": "4560b30c",
   "metadata": {},
   "source": [
    "No missing value found in cancer data"
   ]
  },
  {
   "cell_type": "code",
   "execution_count": 11,
   "id": "4d0bd0c7",
   "metadata": {},
   "outputs": [
    {
     "name": "stdout",
     "output_type": "stream",
     "text": [
      "mean radius                0\n",
      "mean texture               0\n",
      "mean perimeter             0\n",
      "mean area                  0\n",
      "mean smoothness            0\n",
      "mean compactness           0\n",
      "mean concavity             0\n",
      "mean concave points        0\n",
      "mean symmetry              0\n",
      "mean fractal dimension     0\n",
      "radius error               0\n",
      "texture error              0\n",
      "perimeter error            0\n",
      "area error                 0\n",
      "smoothness error           0\n",
      "compactness error          0\n",
      "concavity error            0\n",
      "concave points error       0\n",
      "symmetry error             0\n",
      "fractal dimension error    0\n",
      "worst radius               0\n",
      "worst texture              0\n",
      "worst perimeter            0\n",
      "worst area                 0\n",
      "worst smoothness           0\n",
      "worst compactness          0\n",
      "worst concavity            0\n",
      "worst concave points       0\n",
      "worst symmetry             0\n",
      "worst fractal dimension    0\n",
      "dtype: int64\n"
     ]
    }
   ],
   "source": [
    "missing_target = cancer_data_target.isnull().sum()\n",
    "print(missing)"
   ]
  },
  {
   "cell_type": "markdown",
   "id": "d4c93396",
   "metadata": {},
   "source": [
    "No missing value found in cancer data of target variable"
   ]
  },
  {
   "cell_type": "code",
   "execution_count": 12,
   "id": "b8103888",
   "metadata": {},
   "outputs": [],
   "source": [
    "#modeling \n",
    "from sklearn.model_selection import train_test_split\n",
    "from sklearn.preprocessing import StandardScaler"
   ]
  },
  {
   "cell_type": "code",
   "execution_count": 13,
   "id": "92343fce",
   "metadata": {},
   "outputs": [],
   "source": [
    "\n",
    "X_train,X_test,Y_train,Y_test = train_test_split(cancer_df ,cancer_data_target,train_size=0.8, test_size=0.2, random_state=0)\n"
   ]
  },
  {
   "cell_type": "code",
   "execution_count": 14,
   "id": "40e1e410",
   "metadata": {},
   "outputs": [],
   "source": [
    "# Standardize the features (mean=0, variance=1)\n",
    "scaler = StandardScaler()\n",
    "X_train = scaler.fit_transform(X_train)\n",
    "X_test = scaler.transform(X_test)"
   ]
  },
  {
   "cell_type": "markdown",
   "id": "3a04c1cc",
   "metadata": {},
   "source": [
    "Standardizing features (mean=0, variance=1) is essential for fair comparisons, better algorithm convergence, clearer model interpretability, proper regularization, and preventing numerical instability."
   ]
  },
  {
   "cell_type": "code",
   "execution_count": 15,
   "id": "75208253",
   "metadata": {},
   "outputs": [
    {
     "data": {
      "text/plain": [
       "(455, 30)"
      ]
     },
     "execution_count": 15,
     "metadata": {},
     "output_type": "execute_result"
    }
   ],
   "source": [
    "#Dim of X_train\n",
    "X_train.shape"
   ]
  },
  {
   "cell_type": "code",
   "execution_count": 16,
   "id": "93fc7816",
   "metadata": {},
   "outputs": [],
   "source": [
    "#SVM with default parameters\n",
    "from sklearn.svm import SVC\n",
    "from sklearn.metrics import confusion_matrix, classification_report,accuracy_score\n",
    "from sklearn import metrics"
   ]
  },
  {
   "cell_type": "code",
   "execution_count": 17,
   "id": "74653ef3",
   "metadata": {},
   "outputs": [],
   "source": [
    "svc= SVC()"
   ]
  },
  {
   "cell_type": "code",
   "execution_count": 18,
   "id": "e3a6388b",
   "metadata": {},
   "outputs": [
    {
     "name": "stderr",
     "output_type": "stream",
     "text": [
      "C:\\Users\\rekha\\anaconda3\\lib\\site-packages\\sklearn\\utils\\validation.py:1143: DataConversionWarning: A column-vector y was passed when a 1d array was expected. Please change the shape of y to (n_samples, ), for example using ravel().\n",
      "  y = column_or_1d(y, warn=True)\n"
     ]
    },
    {
     "data": {
      "text/html": [
       "<style>#sk-container-id-1 {color: black;background-color: white;}#sk-container-id-1 pre{padding: 0;}#sk-container-id-1 div.sk-toggleable {background-color: white;}#sk-container-id-1 label.sk-toggleable__label {cursor: pointer;display: block;width: 100%;margin-bottom: 0;padding: 0.3em;box-sizing: border-box;text-align: center;}#sk-container-id-1 label.sk-toggleable__label-arrow:before {content: \"▸\";float: left;margin-right: 0.25em;color: #696969;}#sk-container-id-1 label.sk-toggleable__label-arrow:hover:before {color: black;}#sk-container-id-1 div.sk-estimator:hover label.sk-toggleable__label-arrow:before {color: black;}#sk-container-id-1 div.sk-toggleable__content {max-height: 0;max-width: 0;overflow: hidden;text-align: left;background-color: #f0f8ff;}#sk-container-id-1 div.sk-toggleable__content pre {margin: 0.2em;color: black;border-radius: 0.25em;background-color: #f0f8ff;}#sk-container-id-1 input.sk-toggleable__control:checked~div.sk-toggleable__content {max-height: 200px;max-width: 100%;overflow: auto;}#sk-container-id-1 input.sk-toggleable__control:checked~label.sk-toggleable__label-arrow:before {content: \"▾\";}#sk-container-id-1 div.sk-estimator input.sk-toggleable__control:checked~label.sk-toggleable__label {background-color: #d4ebff;}#sk-container-id-1 div.sk-label input.sk-toggleable__control:checked~label.sk-toggleable__label {background-color: #d4ebff;}#sk-container-id-1 input.sk-hidden--visually {border: 0;clip: rect(1px 1px 1px 1px);clip: rect(1px, 1px, 1px, 1px);height: 1px;margin: -1px;overflow: hidden;padding: 0;position: absolute;width: 1px;}#sk-container-id-1 div.sk-estimator {font-family: monospace;background-color: #f0f8ff;border: 1px dotted black;border-radius: 0.25em;box-sizing: border-box;margin-bottom: 0.5em;}#sk-container-id-1 div.sk-estimator:hover {background-color: #d4ebff;}#sk-container-id-1 div.sk-parallel-item::after {content: \"\";width: 100%;border-bottom: 1px solid gray;flex-grow: 1;}#sk-container-id-1 div.sk-label:hover label.sk-toggleable__label {background-color: #d4ebff;}#sk-container-id-1 div.sk-serial::before {content: \"\";position: absolute;border-left: 1px solid gray;box-sizing: border-box;top: 0;bottom: 0;left: 50%;z-index: 0;}#sk-container-id-1 div.sk-serial {display: flex;flex-direction: column;align-items: center;background-color: white;padding-right: 0.2em;padding-left: 0.2em;position: relative;}#sk-container-id-1 div.sk-item {position: relative;z-index: 1;}#sk-container-id-1 div.sk-parallel {display: flex;align-items: stretch;justify-content: center;background-color: white;position: relative;}#sk-container-id-1 div.sk-item::before, #sk-container-id-1 div.sk-parallel-item::before {content: \"\";position: absolute;border-left: 1px solid gray;box-sizing: border-box;top: 0;bottom: 0;left: 50%;z-index: -1;}#sk-container-id-1 div.sk-parallel-item {display: flex;flex-direction: column;z-index: 1;position: relative;background-color: white;}#sk-container-id-1 div.sk-parallel-item:first-child::after {align-self: flex-end;width: 50%;}#sk-container-id-1 div.sk-parallel-item:last-child::after {align-self: flex-start;width: 50%;}#sk-container-id-1 div.sk-parallel-item:only-child::after {width: 0;}#sk-container-id-1 div.sk-dashed-wrapped {border: 1px dashed gray;margin: 0 0.4em 0.5em 0.4em;box-sizing: border-box;padding-bottom: 0.4em;background-color: white;}#sk-container-id-1 div.sk-label label {font-family: monospace;font-weight: bold;display: inline-block;line-height: 1.2em;}#sk-container-id-1 div.sk-label-container {text-align: center;}#sk-container-id-1 div.sk-container {/* jupyter's `normalize.less` sets `[hidden] { display: none; }` but bootstrap.min.css set `[hidden] { display: none !important; }` so we also need the `!important` here to be able to override the default hidden behavior on the sphinx rendered scikit-learn.org. See: https://github.com/scikit-learn/scikit-learn/issues/21755 */display: inline-block !important;position: relative;}#sk-container-id-1 div.sk-text-repr-fallback {display: none;}</style><div id=\"sk-container-id-1\" class=\"sk-top-container\"><div class=\"sk-text-repr-fallback\"><pre>SVC()</pre><b>In a Jupyter environment, please rerun this cell to show the HTML representation or trust the notebook. <br />On GitHub, the HTML representation is unable to render, please try loading this page with nbviewer.org.</b></div><div class=\"sk-container\" hidden><div class=\"sk-item\"><div class=\"sk-estimator sk-toggleable\"><input class=\"sk-toggleable__control sk-hidden--visually\" id=\"sk-estimator-id-1\" type=\"checkbox\" checked><label for=\"sk-estimator-id-1\" class=\"sk-toggleable__label sk-toggleable__label-arrow\">SVC</label><div class=\"sk-toggleable__content\"><pre>SVC()</pre></div></div></div></div></div>"
      ],
      "text/plain": [
       "SVC()"
      ]
     },
     "execution_count": 18,
     "metadata": {},
     "output_type": "execute_result"
    }
   ],
   "source": [
    "svc.fit(X_train,Y_train)"
   ]
  },
  {
   "cell_type": "code",
   "execution_count": 19,
   "id": "88d99547",
   "metadata": {},
   "outputs": [],
   "source": [
    "Y_predict_svc = svc.predict(X_test)"
   ]
  },
  {
   "cell_type": "code",
   "execution_count": 20,
   "id": "92f10e15",
   "metadata": {},
   "outputs": [
    {
     "data": {
      "text/plain": [
       "array([0, 1, 1, 1, 1, 1, 1, 1, 1, 1, 1, 1, 1, 1, 1, 0, 1, 0, 0, 0, 0, 0,\n",
       "       1, 1, 0, 1, 1, 0, 1, 0, 1, 0, 1, 0, 1, 0, 1, 0, 1, 0, 0, 1, 0, 1,\n",
       "       1, 0, 1, 1, 1, 0, 0, 0, 0, 1, 1, 1, 1, 1, 1, 0, 0, 0, 1, 1, 0, 1,\n",
       "       0, 0, 0, 1, 1, 0, 1, 0, 0, 1, 1, 1, 1, 1, 0, 0, 0, 1, 0, 1, 1, 1,\n",
       "       0, 0, 1, 1, 1, 0, 1, 1, 0, 1, 1, 1, 1, 1, 1, 1, 0, 1, 0, 1, 1, 0,\n",
       "       1, 0, 0, 1])"
      ]
     },
     "execution_count": 20,
     "metadata": {},
     "output_type": "execute_result"
    }
   ],
   "source": [
    "Y_predict_svc"
   ]
  },
  {
   "cell_type": "code",
   "execution_count": 21,
   "id": "44b93db2",
   "metadata": {},
   "outputs": [
    {
     "data": {
      "text/html": [
       "<div>\n",
       "<style scoped>\n",
       "    .dataframe tbody tr th:only-of-type {\n",
       "        vertical-align: middle;\n",
       "    }\n",
       "\n",
       "    .dataframe tbody tr th {\n",
       "        vertical-align: top;\n",
       "    }\n",
       "\n",
       "    .dataframe thead th {\n",
       "        text-align: right;\n",
       "    }\n",
       "</style>\n",
       "<table border=\"1\" class=\"dataframe\">\n",
       "  <thead>\n",
       "    <tr style=\"text-align: right;\">\n",
       "      <th></th>\n",
       "      <th>0</th>\n",
       "    </tr>\n",
       "  </thead>\n",
       "  <tbody>\n",
       "    <tr>\n",
       "      <th>512</th>\n",
       "      <td>0</td>\n",
       "    </tr>\n",
       "    <tr>\n",
       "      <th>457</th>\n",
       "      <td>1</td>\n",
       "    </tr>\n",
       "    <tr>\n",
       "      <th>439</th>\n",
       "      <td>1</td>\n",
       "    </tr>\n",
       "    <tr>\n",
       "      <th>298</th>\n",
       "      <td>1</td>\n",
       "    </tr>\n",
       "    <tr>\n",
       "      <th>37</th>\n",
       "      <td>1</td>\n",
       "    </tr>\n",
       "    <tr>\n",
       "      <th>...</th>\n",
       "      <td>...</td>\n",
       "    </tr>\n",
       "    <tr>\n",
       "      <th>213</th>\n",
       "      <td>0</td>\n",
       "    </tr>\n",
       "    <tr>\n",
       "      <th>519</th>\n",
       "      <td>1</td>\n",
       "    </tr>\n",
       "    <tr>\n",
       "      <th>432</th>\n",
       "      <td>0</td>\n",
       "    </tr>\n",
       "    <tr>\n",
       "      <th>516</th>\n",
       "      <td>0</td>\n",
       "    </tr>\n",
       "    <tr>\n",
       "      <th>500</th>\n",
       "      <td>1</td>\n",
       "    </tr>\n",
       "  </tbody>\n",
       "</table>\n",
       "<p>114 rows × 1 columns</p>\n",
       "</div>"
      ],
      "text/plain": [
       "     0\n",
       "512  0\n",
       "457  1\n",
       "439  1\n",
       "298  1\n",
       "37   1\n",
       "..  ..\n",
       "213  0\n",
       "519  1\n",
       "432  0\n",
       "516  0\n",
       "500  1\n",
       "\n",
       "[114 rows x 1 columns]"
      ]
     },
     "execution_count": 21,
     "metadata": {},
     "output_type": "execute_result"
    }
   ],
   "source": [
    "Y_test"
   ]
  },
  {
   "cell_type": "code",
   "execution_count": 22,
   "id": "c1163ac1",
   "metadata": {},
   "outputs": [
    {
     "name": "stdout",
     "output_type": "stream",
     "text": [
      "Accuracy: 0.9824561403508771\n",
      "Confusion Matrix:\n",
      " [[45  2]\n",
      " [ 0 67]]\n",
      "Classification Report:\n",
      "               precision    recall  f1-score   support\n",
      "\n",
      "           0       1.00      0.96      0.98        47\n",
      "           1       0.97      1.00      0.99        67\n",
      "\n",
      "    accuracy                           0.98       114\n",
      "   macro avg       0.99      0.98      0.98       114\n",
      "weighted avg       0.98      0.98      0.98       114\n",
      "\n"
     ]
    }
   ],
   "source": [
    "accuracy = accuracy_score(Y_test, Y_predict_svc)\n",
    "confusion = confusion_matrix(Y_test, Y_predict_svc)\n",
    "report = classification_report(Y_test, Y_predict_svc)\n",
    "\n",
    "print(\"Accuracy:\", accuracy)\n",
    "print(\"Confusion Matrix:\\n\", confusion)\n",
    "print(\"Classification Report:\\n\", report)"
   ]
  },
  {
   "cell_type": "code",
   "execution_count": 23,
   "id": "10ef7248",
   "metadata": {},
   "outputs": [],
   "source": [
    "#Hyper Paramater Tuning\n",
    "\n",
    "from sklearn.model_selection import GridSearchCV\n",
    "from sklearn.svm import SVC\n",
    "\n",
    "# SVM classifier\n",
    "svc = SVC()\n",
    "\n",
    "#  parameters and hyperparameter grid\n",
    "parameters = [{\"C\": [1, 10, 100, 1000], 'kernel': ['linear']},\n",
    "              {\"C\": [1, 10, 100, 1000], 'kernel': ['rbf'], 'gamma': [0.1, 0.2, 0.3, 0.4, 0.5, 0.6]},\n",
    "              {\"C\": [1, 10, 100, 1000], 'kernel': ['poly'], 'gamma': [0.1, 0.2, 0.3, 0.4, 0.5, 0.6]}]\n",
    "\n",
    "# Create GridSearchCV with the correct scoring metric \n",
    "grid_search = GridSearchCV(estimator=svc,\n",
    "                           param_grid=parameters,\n",
    "                           scoring='accuracy',\n",
    "                           cv=5)\n",
    "\n",
    "# grid_search.fit(X_train, Y_train)  # takes too long time processing models !!!\n",
    "\n"
   ]
  },
  {
   "cell_type": "markdown",
   "id": "ce5e8a16",
   "metadata": {},
   "source": [
    "Above code sets up a grid search to systematically explore different combinations of hyperparameters for an SVM classifier with different kernels (linear, RBF, and polynomial) and measures their performance using accuracy. The goal is to find the hyperparameters that yield the best accuracy on the dataset, but it is noted that the process might be computationally intensive.\n",
    "A grid search for hyperparameter tuning is taking too long to process, there are several strategies we can consider to make the process more efficient.The choice of strategy depends on the specific problem, available computational resources, and the trade-off between computational cost and model performance improvement. It's essential to strike a balance that allows you to efficiently find good hyperparameters for  machine learning model."
   ]
  },
  {
   "cell_type": "markdown",
   "id": "74435bf1",
   "metadata": {},
   "source": [
    "#### Kernel\n",
    "In SVM, kernel functions transform data to enhance separability. They enable SVMs to handle nonlinear data by mapping it to a higher-dimensional space implicitly, avoiding explicit transformations. The chosen kernel impacts SVM performance, selected based on data and problem characteristics. \n",
    "\n",
    "Common kernels include:\n",
    "\n",
    "##### 1.Linear Kernel:\n",
    "Ideal for linearly separable data with many features, It can be line as well.\n"
   ]
  },
  {
   "cell_type": "code",
   "execution_count": 24,
   "id": "4f3471c1",
   "metadata": {},
   "outputs": [
    {
     "name": "stderr",
     "output_type": "stream",
     "text": [
      "C:\\Users\\rekha\\anaconda3\\lib\\site-packages\\sklearn\\utils\\validation.py:1143: DataConversionWarning: A column-vector y was passed when a 1d array was expected. Please change the shape of y to (n_samples, ), for example using ravel().\n",
      "  y = column_or_1d(y, warn=True)\n"
     ]
    }
   ],
   "source": [
    "svc= SVC(kernel=\"linear\")\n",
    "svc.fit(X_train,Y_train)\n",
    "Y_predict_svc_linear = svc.predict(X_test)"
   ]
  },
  {
   "cell_type": "code",
   "execution_count": 25,
   "id": "e2c47bc9",
   "metadata": {},
   "outputs": [
    {
     "name": "stdout",
     "output_type": "stream",
     "text": [
      "              precision    recall  f1-score   support\n",
      "\n",
      "           0       0.98      0.98      0.98        47\n",
      "           1       0.99      0.99      0.99        67\n",
      "\n",
      "    accuracy                           0.98       114\n",
      "   macro avg       0.98      0.98      0.98       114\n",
      "weighted avg       0.98      0.98      0.98       114\n",
      "\n"
     ]
    }
   ],
   "source": [
    "print(classification_report(Y_test,Y_predict_svc_linear))"
   ]
  },
  {
   "cell_type": "code",
   "execution_count": 26,
   "id": "ce9bb066",
   "metadata": {},
   "outputs": [
    {
     "name": "stdout",
     "output_type": "stream",
     "text": [
      "[[46  1]\n",
      " [ 1 66]]\n"
     ]
    }
   ],
   "source": [
    "print(confusion_matrix(Y_test,Y_predict_svc_linear))# Confusion Matrix"
   ]
  },
  {
   "cell_type": "code",
   "execution_count": 27,
   "id": "a163c5e8",
   "metadata": {},
   "outputs": [
    {
     "name": "stdout",
     "output_type": "stream",
     "text": [
      "Accuracy of Kernel = linear is : 0.9824561403508771\n"
     ]
    }
   ],
   "source": [
    "print(\"Accuracy of Kernel = linear is :\" , metrics.accuracy_score(Y_test,Y_predict_svc_linear))"
   ]
  },
  {
   "cell_type": "markdown",
   "id": "b9c63854",
   "metadata": {},
   "source": [
    "##### 2.Polynomial Kernel:\n",
    "Suitable for data with polynomial relationships, with parameters 'd,'controlling its shape.\n",
    "                    d indicates degree of polynomial\n",
    "                    Gamma use value lies between 0 to 1\n",
    "                    "
   ]
  },
  {
   "cell_type": "code",
   "execution_count": 28,
   "id": "dfc26644",
   "metadata": {},
   "outputs": [
    {
     "name": "stderr",
     "output_type": "stream",
     "text": [
      "C:\\Users\\rekha\\anaconda3\\lib\\site-packages\\sklearn\\utils\\validation.py:1143: DataConversionWarning: A column-vector y was passed when a 1d array was expected. Please change the shape of y to (n_samples, ), for example using ravel().\n",
      "  y = column_or_1d(y, warn=True)\n"
     ]
    }
   ],
   "source": [
    "svc= SVC(kernel=\"poly\")\n",
    "svc.fit(X_train,Y_train)\n",
    "Y_predict_svc_poly = svc.predict(X_test)"
   ]
  },
  {
   "cell_type": "code",
   "execution_count": 29,
   "id": "edc19a24",
   "metadata": {},
   "outputs": [
    {
     "name": "stdout",
     "output_type": "stream",
     "text": [
      "              precision    recall  f1-score   support\n",
      "\n",
      "           0       1.00      0.77      0.87        47\n",
      "           1       0.86      1.00      0.92        67\n",
      "\n",
      "    accuracy                           0.90       114\n",
      "   macro avg       0.93      0.88      0.90       114\n",
      "weighted avg       0.92      0.90      0.90       114\n",
      "\n"
     ]
    }
   ],
   "source": [
    "print(classification_report(Y_test,Y_predict_svc_poly))"
   ]
  },
  {
   "cell_type": "code",
   "execution_count": 30,
   "id": "8d4218d3",
   "metadata": {},
   "outputs": [
    {
     "name": "stdout",
     "output_type": "stream",
     "text": [
      "[[36 11]\n",
      " [ 0 67]]\n"
     ]
    }
   ],
   "source": [
    "print(confusion_matrix(Y_test,Y_predict_svc_poly))"
   ]
  },
  {
   "cell_type": "code",
   "execution_count": 31,
   "id": "ba442b39",
   "metadata": {},
   "outputs": [
    {
     "name": "stdout",
     "output_type": "stream",
     "text": [
      "Accuracy of Kernel = polynomial is : 0.9035087719298246\n"
     ]
    }
   ],
   "source": [
    "print(\"Accuracy of Kernel = polynomial is :\" , metrics.accuracy_score(Y_test,Y_predict_svc_poly))"
   ]
  },
  {
   "cell_type": "markdown",
   "id": "1c485e80",
   "metadata": {},
   "source": [
    "##### 3.RBF Kernel:\n",
    "Widely used for complex, nonlinear decision boundaries, with 'γ' providing flexibility.\n",
    "\n"
   ]
  },
  {
   "cell_type": "code",
   "execution_count": 32,
   "id": "3b0da2db",
   "metadata": {},
   "outputs": [
    {
     "name": "stderr",
     "output_type": "stream",
     "text": [
      "C:\\Users\\rekha\\anaconda3\\lib\\site-packages\\sklearn\\utils\\validation.py:1143: DataConversionWarning: A column-vector y was passed when a 1d array was expected. Please change the shape of y to (n_samples, ), for example using ravel().\n",
      "  y = column_or_1d(y, warn=True)\n"
     ]
    }
   ],
   "source": [
    "svc= SVC(kernel=\"rbf\")\n",
    "svc.fit(X_train,Y_train)\n",
    "Y_predict_svc_rbf = svc.predict(X_test)"
   ]
  },
  {
   "cell_type": "code",
   "execution_count": 33,
   "id": "ed7e010a",
   "metadata": {},
   "outputs": [
    {
     "name": "stdout",
     "output_type": "stream",
     "text": [
      "              precision    recall  f1-score   support\n",
      "\n",
      "           0       1.00      0.96      0.98        47\n",
      "           1       0.97      1.00      0.99        67\n",
      "\n",
      "    accuracy                           0.98       114\n",
      "   macro avg       0.99      0.98      0.98       114\n",
      "weighted avg       0.98      0.98      0.98       114\n",
      "\n"
     ]
    }
   ],
   "source": [
    "print(classification_report(Y_test,Y_predict_svc_rbf))"
   ]
  },
  {
   "cell_type": "code",
   "execution_count": 34,
   "id": "01d68269",
   "metadata": {},
   "outputs": [
    {
     "name": "stdout",
     "output_type": "stream",
     "text": [
      "[[45  2]\n",
      " [ 0 67]]\n"
     ]
    }
   ],
   "source": [
    "print(confusion_matrix(Y_test,Y_predict_svc_rbf))"
   ]
  },
  {
   "cell_type": "code",
   "execution_count": 35,
   "id": "92ff6db7",
   "metadata": {},
   "outputs": [
    {
     "name": "stdout",
     "output_type": "stream",
     "text": [
      "Accuracy of Kernel = rbf is : 0.9824561403508771\n"
     ]
    }
   ],
   "source": [
    "print(\"Accuracy of Kernel = rbf is :\" , metrics.accuracy_score(Y_test,Y_predict_svc_rbf))"
   ]
  },
  {
   "cell_type": "markdown",
   "id": "2bdb8154",
   "metadata": {},
   "source": [
    "#### 4.Sigmoid Kernel: \n",
    "Appropriate for data with sigmoidal patterns, resembling a neural network activation function."
   ]
  },
  {
   "cell_type": "code",
   "execution_count": 36,
   "id": "b89e22e2",
   "metadata": {},
   "outputs": [
    {
     "name": "stderr",
     "output_type": "stream",
     "text": [
      "C:\\Users\\rekha\\anaconda3\\lib\\site-packages\\sklearn\\utils\\validation.py:1143: DataConversionWarning: A column-vector y was passed when a 1d array was expected. Please change the shape of y to (n_samples, ), for example using ravel().\n",
      "  y = column_or_1d(y, warn=True)\n"
     ]
    }
   ],
   "source": [
    "svc= SVC(kernel=\"sigmoid\")\n",
    "svc.fit(X_train,Y_train)\n",
    "Y_predict_svc_sigmoid = svc.predict(X_test)"
   ]
  },
  {
   "cell_type": "code",
   "execution_count": 37,
   "id": "51838af7",
   "metadata": {},
   "outputs": [
    {
     "name": "stdout",
     "output_type": "stream",
     "text": [
      "              precision    recall  f1-score   support\n",
      "\n",
      "           0       0.89      0.89      0.89        47\n",
      "           1       0.93      0.93      0.93        67\n",
      "\n",
      "    accuracy                           0.91       114\n",
      "   macro avg       0.91      0.91      0.91       114\n",
      "weighted avg       0.91      0.91      0.91       114\n",
      "\n"
     ]
    }
   ],
   "source": [
    "print(classification_report(Y_test,Y_predict_svc_sigmoid))"
   ]
  },
  {
   "cell_type": "code",
   "execution_count": 38,
   "id": "d93db55e",
   "metadata": {},
   "outputs": [
    {
     "name": "stdout",
     "output_type": "stream",
     "text": [
      "[[42  5]\n",
      " [ 5 62]]\n"
     ]
    }
   ],
   "source": [
    "print(confusion_matrix(Y_test,Y_predict_svc_sigmoid))"
   ]
  },
  {
   "cell_type": "code",
   "execution_count": 39,
   "id": "275ed04c",
   "metadata": {},
   "outputs": [
    {
     "name": "stdout",
     "output_type": "stream",
     "text": [
      "Accuracy of Kernel = Sigmoid is : 0.9122807017543859\n"
     ]
    }
   ],
   "source": [
    "print(\"Accuracy of Kernel = Sigmoid is :\" , metrics.accuracy_score(Y_test,Y_predict_svc_sigmoid))"
   ]
  },
  {
   "cell_type": "markdown",
   "id": "f8d06fff",
   "metadata": {},
   "source": [
    "#### Observation from kernals"
   ]
  },
  {
   "cell_type": "markdown",
   "id": "6af79952",
   "metadata": {},
   "source": [
    "Observations from the four different kernel-based models suggest that the SVM model with the linear kernel performs exceptionally well. The confusion matrix for the linear kernel reveals the following:\n",
    "\n",
    "There are 1 false positives and 1 false negative, resulting in an impressive accuracy of 0.9825.\n",
    "Both type I and type II errors are notably lower when compared to the other three kernel types.\n",
    "\n",
    "##### In light of these observations, the preference leans strongly towards selecting the SVM model with the \"linear\" kernel for its superior performance.\n",
    "\n"
   ]
  },
  {
   "cell_type": "markdown",
   "id": "acee9a2b",
   "metadata": {},
   "source": [
    "#### Deciphering the Parameters of an SVM Classifier: C, decision_function_shape, degree, gamma, and kernel\n",
    "SVC(C=1.0, cache_size=200, class_weight=None, coef0.0.0, decision_function_shape='ovr', degree=3, gamma='auto', kernel='rbf', max_iter=-1, probability=False, random_state=None, shrinking=True, tol=0.001, verbose=False)\n",
    "\n",
    "C: Controls the trade-off between margin maximization and error minimization in SVM. Smaller values encourage wider margins but may increase misclassifications, while larger values aim for smaller margins with fewer errors.\n",
    "\n",
    "decision_function_shape: Handles multiclass classification; 'ovr' implies \"One-vs-Rest,\" training binary classifiers for each class.\n",
    "\n",
    "degree: Specific to polynomial kernels, determines the polynomial degree for data transformation. Higher degrees capture more complex relationships.\n",
    "\n",
    "gamma: For RBF and polynomial kernels, adjusts decision boundary flexibility. Smaller values make it more flexible, fitting data closely, while larger values make it rigid which lies between 0 to 1\n",
    "\n",
    "kernel: Kernal is mathmatical function; default kernal is'rbf' represents the Radial Basis Function, suitable for complex, nonlinear boundaries which helps to classify two different sents of data points\n",
    "\n",
    "Other parameters in the SVM call serve various functions, including cache size, class weights, random seed, and optimization control. However, the mentioned parameters are key for understanding the SVM's behavior concerning its kernel and regularization.\n",
    " \n",
    " "
   ]
  },
  {
   "cell_type": "markdown",
   "id": "a3507926",
   "metadata": {},
   "source": [
    "#### Implement the SVM-BC classifier for the breast-cancer dataset"
   ]
  },
  {
   "cell_type": "code",
   "execution_count": 40,
   "id": "7ea7e825",
   "metadata": {},
   "outputs": [
    {
     "name": "stdout",
     "output_type": "stream",
     "text": [
      "Accuracy: 0.98\n",
      "\n",
      "Classification Report:\n",
      "               precision    recall  f1-score   support\n",
      "\n",
      "           0       1.00      0.96      0.98        47\n",
      "           1       0.97      1.00      0.99        67\n",
      "\n",
      "    accuracy                           0.98       114\n",
      "   macro avg       0.99      0.98      0.98       114\n",
      "weighted avg       0.98      0.98      0.98       114\n",
      "\n",
      "\n",
      "Confusion Matrix:\n",
      " [[45  2]\n",
      " [ 0 67]]\n"
     ]
    },
    {
     "name": "stderr",
     "output_type": "stream",
     "text": [
      "C:\\Users\\rekha\\anaconda3\\lib\\site-packages\\sklearn\\utils\\validation.py:1143: DataConversionWarning: A column-vector y was passed when a 1d array was expected. Please change the shape of y to (n_samples, ), for example using ravel().\n",
      "  y = column_or_1d(y, warn=True)\n"
     ]
    }
   ],
   "source": [
    "\n",
    "# Create an SVM classifier\n",
    "svm_classifier = SVC(kernel='rbf', C=1.0, gamma='scale', random_state=42)\n",
    "svm_classifier.fit(X_train, Y_train)\n",
    "y_pred = svm_classifier.predict(X_test)\n",
    "accuracy = accuracy_score(Y_test, y_pred)\n",
    "print(f\"Accuracy: {accuracy:.2f}\")\n",
    "\n",
    "print(\"\\nClassification Report:\\n\", classification_report(Y_test, y_pred))\n",
    "print(\"\\nConfusion Matrix:\\n\", confusion_matrix(Y_test, y_pred))"
   ]
  },
  {
   "cell_type": "markdown",
   "id": "1ab965a0",
   "metadata": {},
   "source": [
    "#### Accuracy analysis using a classification report for both the DecisionTree model and the SVM-BC model"
   ]
  },
  {
   "cell_type": "code",
   "execution_count": 41,
   "id": "3aec1947",
   "metadata": {},
   "outputs": [
    {
     "name": "stdout",
     "output_type": "stream",
     "text": [
      "Classification Report for DecisionTree Model:\n",
      "               precision    recall  f1-score   support\n",
      "\n",
      "           0       0.86      0.94      0.90        47\n",
      "           1       0.95      0.90      0.92        67\n",
      "\n",
      "    accuracy                           0.91       114\n",
      "   macro avg       0.91      0.92      0.91       114\n",
      "weighted avg       0.92      0.91      0.91       114\n",
      "\n",
      "\n",
      "Classification Report for SVM-BC Model:\n",
      "               precision    recall  f1-score   support\n",
      "\n",
      "           0       1.00      0.96      0.98        47\n",
      "           1       0.97      1.00      0.99        67\n",
      "\n",
      "    accuracy                           0.98       114\n",
      "   macro avg       0.99      0.98      0.98       114\n",
      "weighted avg       0.98      0.98      0.98       114\n",
      "\n"
     ]
    }
   ],
   "source": [
    "from sklearn.tree import DecisionTreeClassifier\n",
    "dt_classifier = DecisionTreeClassifier(random_state=42)\n",
    "dt_classifier.fit(X_train, Y_train)\n",
    "dt_y_pred = dt_classifier.predict(X_test)\n",
    "\n",
    "\n",
    "dt_classification_rep = classification_report(Y_test, dt_y_pred)\n",
    "\n",
    "print(\"Classification Report for DecisionTree Model:\\n\", dt_classification_rep)\n",
    "print(\"\\nClassification Report for SVM-BC Model:\\n\", classification_report(Y_test, y_pred))\n",
    "\n"
   ]
  },
  {
   "cell_type": "code",
   "execution_count": 42,
   "id": "7fc8cb55",
   "metadata": {},
   "outputs": [
    {
     "name": "stdout",
     "output_type": "stream",
     "text": [
      "confusion_matrix for DT:\n",
      " [[44  3]\n",
      " [ 7 60]]\n",
      "confusion Matrix for svm:\n",
      " [[45  2]\n",
      " [ 0 67]]\n"
     ]
    }
   ],
   "source": [
    "print(\"confusion_matrix for DT:\\n\", confusion_matrix(Y_test, dt_y_pred)) #Decision Tree\n",
    "print(\"confusion Matrix for svm:\\n\" ,confusion_matrix(Y_test,y_pred))#svm"
   ]
  },
  {
   "cell_type": "markdown",
   "id": "3ebd6d32",
   "metadata": {},
   "source": [
    "#### Accuracy analysis:\n"
   ]
  },
  {
   "cell_type": "markdown",
   "id": "35be8420",
   "metadata": {},
   "source": [
    "Performance analysis between two classification models svm and decision tree "
   ]
  },
  {
   "cell_type": "markdown",
   "id": "f85a4c91",
   "metadata": {},
   "source": [
    "1. Confusion matrix \n",
    "2. classification Report: Accuracy,F1 Score,recall,Precision,\n",
    "3. Roc curve\n"
   ]
  },
  {
   "cell_type": "code",
   "execution_count": 43,
   "id": "a039c26c",
   "metadata": {},
   "outputs": [
    {
     "name": "stdout",
     "output_type": "stream",
     "text": [
      "Confusion matrix\n",
      "\n",
      " [[45  2]\n",
      " [ 0 67]]\n",
      "\n",
      "True Positive(TP)= 45\n",
      "\n",
      "True Negative(TN)= 67\n",
      "\n",
      "False Positive(FP)= 2\n",
      "\n",
      "False Negative(FN)= 0\n"
     ]
    }
   ],
   "source": [
    "#### Confusion Matrix of 2*2\n",
    "Confusion_matrix =confusion_matrix(Y_test,y_pred)\n",
    "print('Confusion matrix\\n\\n',Confusion_matrix)\n",
    "print('\\nTrue Positive(TP)=',Confusion_matrix[0,0])\n",
    "print('\\nTrue Negative(TN)=',Confusion_matrix[1,1])\n",
    "print('\\nFalse Positive(FP)=',Confusion_matrix[0,1])\n",
    "print('\\nFalse Negative(FN)=',Confusion_matrix[1,0])\n",
    "\n",
    "TP=Confusion_matrix[0,0]\n",
    "TN=Confusion_matrix[1,1]\n",
    "FP=Confusion_matrix[0,1]\n",
    "FN=Confusion_matrix[1,0]"
   ]
  },
  {
   "cell_type": "code",
   "execution_count": 44,
   "id": "e69fcd0a",
   "metadata": {},
   "outputs": [
    {
     "data": {
      "text/html": [
       "<div>\n",
       "<style scoped>\n",
       "    .dataframe tbody tr th:only-of-type {\n",
       "        vertical-align: middle;\n",
       "    }\n",
       "\n",
       "    .dataframe tbody tr th {\n",
       "        vertical-align: top;\n",
       "    }\n",
       "\n",
       "    .dataframe thead th {\n",
       "        text-align: right;\n",
       "    }\n",
       "</style>\n",
       "<table border=\"1\" class=\"dataframe\">\n",
       "  <thead>\n",
       "    <tr style=\"text-align: right;\">\n",
       "      <th></th>\n",
       "      <th>predict Cancer</th>\n",
       "      <th>predict healthy</th>\n",
       "    </tr>\n",
       "  </thead>\n",
       "  <tbody>\n",
       "    <tr>\n",
       "      <th>Actual Cancer</th>\n",
       "      <td>45</td>\n",
       "      <td>2</td>\n",
       "    </tr>\n",
       "    <tr>\n",
       "      <th>Actual healthy</th>\n",
       "      <td>0</td>\n",
       "      <td>67</td>\n",
       "    </tr>\n",
       "  </tbody>\n",
       "</table>\n",
       "</div>"
      ],
      "text/plain": [
       "                predict Cancer  predict healthy\n",
       "Actual Cancer               45                2\n",
       "Actual healthy               0               67"
      ]
     },
     "execution_count": 44,
     "metadata": {},
     "output_type": "execute_result"
    }
   ],
   "source": [
    "Confusion_matrix=pd.DataFrame(data=Confusion_matrix,columns=['predict Cancer','predict healthy'],\n",
    "                             index=['Actual Cancer','Actual healthy'])\n",
    "\n",
    "Confusion_matrix"
   ]
  },
  {
   "cell_type": "markdown",
   "id": "b0e5e817",
   "metadata": {},
   "source": [
    "Precison can be defined as the percentage of correctly predicted positive outcome out of all the predicted positive outcomes."
   ]
  },
  {
   "cell_type": "code",
   "execution_count": 45,
   "id": "78ba89da",
   "metadata": {},
   "outputs": [
    {
     "data": {
      "text/plain": [
       "0.9574468085106383"
      ]
     },
     "execution_count": 45,
     "metadata": {},
     "output_type": "execute_result"
    }
   ],
   "source": [
    "#Precison\n",
    "Precison= TP/float(TP+FP)\n",
    "Precison"
   ]
  },
  {
   "cell_type": "markdown",
   "id": "f6d10294",
   "metadata": {},
   "source": [
    "Recall can be defined as the percentage of correctly predicted outcome out of all the actual positive outcomes"
   ]
  },
  {
   "cell_type": "code",
   "execution_count": 46,
   "id": "87ba36e1",
   "metadata": {},
   "outputs": [
    {
     "data": {
      "text/plain": [
       "1.0"
      ]
     },
     "execution_count": 46,
     "metadata": {},
     "output_type": "execute_result"
    }
   ],
   "source": [
    "#Recall\n",
    "Recall= TP / float(TP+FN)\n",
    "Recall"
   ]
  },
  {
   "cell_type": "markdown",
   "id": "12b49ef6",
   "metadata": {},
   "source": [
    "FPR is the truth is negative but test predicts as positive"
   ]
  },
  {
   "cell_type": "code",
   "execution_count": 47,
   "id": "ff60914c",
   "metadata": {},
   "outputs": [
    {
     "data": {
      "text/plain": [
       "0.028985507246376812"
      ]
     },
     "execution_count": 47,
     "metadata": {},
     "output_type": "execute_result"
    }
   ],
   "source": [
    "#Fasle Positive Rate\n",
    "FPR=FP/float(FP+TN)\n",
    "FPR"
   ]
  },
  {
   "cell_type": "markdown",
   "id": "d4afeb96",
   "metadata": {},
   "source": [
    "### Decision Tree Indepth Performance analysis"
   ]
  },
  {
   "cell_type": "code",
   "execution_count": 48,
   "id": "c005ae9d",
   "metadata": {},
   "outputs": [
    {
     "name": "stdout",
     "output_type": "stream",
     "text": [
      "Confusion matrix\n",
      "\n",
      " [[44  3]\n",
      " [ 7 60]]\n",
      "\n",
      "True Positive(TP)= 44\n",
      "\n",
      "True Negative(TN)= 60\n",
      "\n",
      "False Positive(FP)= 3\n",
      "\n",
      "False Negative(FN)= 7\n"
     ]
    }
   ],
   "source": [
    "Confusion_matrix =confusion_matrix(Y_test,dt_y_pred)\n",
    "print('Confusion matrix\\n\\n',Confusion_matrix)\n",
    "print('\\nTrue Positive(TP)=',Confusion_matrix[0,0])\n",
    "print('\\nTrue Negative(TN)=',Confusion_matrix[1,1])\n",
    "print('\\nFalse Positive(FP)=',Confusion_matrix[0,1])\n",
    "print('\\nFalse Negative(FN)=',Confusion_matrix[1,0])\n",
    "\n",
    "TP_DT=Confusion_matrix[0,0]\n",
    "TN_DT=Confusion_matrix[1,1]\n",
    "FP_DT=Confusion_matrix[0,1]\n",
    "FN_DT=Confusion_matrix[1,0]"
   ]
  },
  {
   "cell_type": "code",
   "execution_count": 49,
   "id": "7d9976b1",
   "metadata": {},
   "outputs": [
    {
     "data": {
      "text/html": [
       "<div>\n",
       "<style scoped>\n",
       "    .dataframe tbody tr th:only-of-type {\n",
       "        vertical-align: middle;\n",
       "    }\n",
       "\n",
       "    .dataframe tbody tr th {\n",
       "        vertical-align: top;\n",
       "    }\n",
       "\n",
       "    .dataframe thead th {\n",
       "        text-align: right;\n",
       "    }\n",
       "</style>\n",
       "<table border=\"1\" class=\"dataframe\">\n",
       "  <thead>\n",
       "    <tr style=\"text-align: right;\">\n",
       "      <th></th>\n",
       "      <th>predict Cancer</th>\n",
       "      <th>predict healthy</th>\n",
       "    </tr>\n",
       "  </thead>\n",
       "  <tbody>\n",
       "    <tr>\n",
       "      <th>Actual Cancer</th>\n",
       "      <td>44</td>\n",
       "      <td>3</td>\n",
       "    </tr>\n",
       "    <tr>\n",
       "      <th>Actual healthy</th>\n",
       "      <td>7</td>\n",
       "      <td>60</td>\n",
       "    </tr>\n",
       "  </tbody>\n",
       "</table>\n",
       "</div>"
      ],
      "text/plain": [
       "                predict Cancer  predict healthy\n",
       "Actual Cancer               44                3\n",
       "Actual healthy               7               60"
      ]
     },
     "execution_count": 49,
     "metadata": {},
     "output_type": "execute_result"
    }
   ],
   "source": [
    "Confusion_matrix=pd.DataFrame(data=Confusion_matrix,columns=['predict Cancer','predict healthy'],\n",
    "                             index=['Actual Cancer','Actual healthy'])\n",
    "\n",
    "Confusion_matrix"
   ]
  },
  {
   "cell_type": "code",
   "execution_count": 50,
   "id": "26bb8673",
   "metadata": {},
   "outputs": [
    {
     "data": {
      "text/plain": [
       "0.9361702127659575"
      ]
     },
     "execution_count": 50,
     "metadata": {},
     "output_type": "execute_result"
    }
   ],
   "source": [
    "#Precison\n",
    "Precison= TP_DT/float(TP_DT+FP_DT)\n",
    "Precison"
   ]
  },
  {
   "cell_type": "code",
   "execution_count": 51,
   "id": "6c06293c",
   "metadata": {},
   "outputs": [
    {
     "data": {
      "text/plain": [
       "0.8627450980392157"
      ]
     },
     "execution_count": 51,
     "metadata": {},
     "output_type": "execute_result"
    }
   ],
   "source": [
    "Recall= TP_DT/ float(TP_DT+FN_DT)\n",
    "Recall"
   ]
  },
  {
   "cell_type": "code",
   "execution_count": 52,
   "id": "e040b9a7",
   "metadata": {},
   "outputs": [
    {
     "data": {
      "text/plain": [
       "0.047619047619047616"
      ]
     },
     "execution_count": 52,
     "metadata": {},
     "output_type": "execute_result"
    }
   ],
   "source": [
    "FPR=FP_DT/float(FP_DT+TN_DT)\n",
    "FPR"
   ]
  },
  {
   "cell_type": "markdown",
   "id": "065f47aa",
   "metadata": {},
   "source": [
    "While Comparing Two confusion Matrix:\n",
    "\n",
    "False Positive and false Negative of SVM is 2 and 0 Respectively.\n",
    "\n",
    "False Positive and false Negative of DT is 3 and 7 Respectively.\n",
    "\n",
    "Clearly, The says SVM has less positive Rate When cope with Decision Tree : first Observation"
   ]
  },
  {
   "cell_type": "markdown",
   "id": "5a3c5587",
   "metadata": {},
   "source": [
    "### ROC Curve"
   ]
  },
  {
   "cell_type": "code",
   "execution_count": 53,
   "id": "e2a04852",
   "metadata": {},
   "outputs": [],
   "source": [
    "import matplotlib.pyplot as plt\n",
    "from sklearn import metrics"
   ]
  },
  {
   "cell_type": "code",
   "execution_count": 62,
   "id": "a4cecccd",
   "metadata": {},
   "outputs": [
    {
     "data": {
      "text/plain": [
       "<matplotlib.legend.Legend at 0x2419d643d00>"
      ]
     },
     "execution_count": 62,
     "metadata": {},
     "output_type": "execute_result"
    },
    {
     "data": {
      "image/png": "[encoded data removed]",
      "text/plain": [
       "<Figure size 640x480 with 1 Axes>"
      ]
     },
     "metadata": {},
     "output_type": "display_data"
    }
   ],
   "source": [
    "# Decision Tree curve \n",
    "fpr_dt, tpr_dt, _ = metrics.roc_curve(Y_test, dt_y_pred)\n",
    "auc_dt = round(metrics.roc_auc_score(Y_test, dt_y_pred), 4)\n",
    "plt.plot(fpr_dt, tpr_dt, label=\"Decision Tree, AUC=\" + str(auc_dt), color='blue')\n",
    "\n",
    "# SVM Curve\n",
    "fpr_svm, tpr_svm, _ = metrics.roc_curve(Y_test, y_pred)\n",
    "auc_svm = round(metrics.roc_auc_score(Y_test, y_pred), 4)\n",
    "plt.plot(fpr_svm, tpr_svm, label=\"SVM, AUC=\" + str(auc_svm), color='red')\n",
    "\n",
    "plt.legend()\n"
   ]
  },
  {
   "cell_type": "markdown",
   "id": "c8643634",
   "metadata": {},
   "source": [
    "### Selecting model based on performance metrics of both Models"
   ]
  },
  {
   "cell_type": "markdown",
   "id": "84b66eaf",
   "metadata": {},
   "source": [
    "SVM is the Preferred Model for breast cancer dataset"
   ]
  },
  {
   "cell_type": "markdown",
   "id": "9cd4626e",
   "metadata": {},
   "source": [
    "\n",
    "1. In Picking Up model, i selected based on performance metrics of both, \n",
    "\n",
    "2. Based on confusion matrix we need to reduce TYPE I error and TYPE II error.\n",
    "\n",
    "Less the false positive rate more the  better model,\n",
    "\n",
    "And the accuracy of svm is much better than Decision Tree\n",
    "\n",
    "we dont have any outliers for model to be overfit and underfit \n",
    "\n",
    "\n",
    "In Roc curve as svm model is almost equal to 1\n",
    "\n",
    "\n",
    "Overall from all Observations \n",
    "\n",
    "#### SVM is good fit\n",
    "\n",
    "Performance Metrics: SVM outperforms the Decision Tree in precision, recall, F1-score, and accuracy.\n",
    "\n",
    "Type I Error Reduction: SVM minimizes false positives, crucial in medical diagnosis to avoid unnecessary treatments.\n",
    "\n",
    "Robustness: SVM shows balanced performance, avoiding overfitting or underfitting.\n",
    "\n",
    "ROC Curve: SVM's ROC curve is excellent, signifying strong discriminatory power.\n",
    "\n",
    "In conclusion, SVM is the better choice for breast cancer diagnosis.\n",
    "\n"
   ]
  }
 ],
 "metadata": {
  "kernelspec": {
   "display_name": "Python 3 (ipykernel)",
   "language": "python",
   "name": "python3"
  },
  "language_info": {
   "codemirror_mode": {
    "name": "ipython",
    "version": 3
   },
   "file_extension": ".py",
   "mimetype": "text/x-python",
   "name": "python",
   "nbconvert_exporter": "python",
   "pygments_lexer": "ipython3",
   "version": "3.10.9"
  }
 },
 "nbformat": 4,
 "nbformat_minor": 5
}
